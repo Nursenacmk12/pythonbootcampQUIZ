{
 "cells": [
  {
   "cell_type": "code",
   "execution_count": 1,
   "id": "3403b2f5-1896-45f6-be2b-073294b51bd5",
   "metadata": {},
   "outputs": [],
   "source": [
    "#1) Aşağıdaki kodun çıktısı ne olacaktır?"
   ]
  },
  {
   "cell_type": "code",
   "execution_count": 4,
   "id": "edc39949-97ee-4b41-a9cc-55552182f44a",
   "metadata": {},
   "outputs": [
    {
     "name": "stdout",
     "output_type": "stream",
     "text": [
      "3 4\n",
      "None\n"
     ]
    }
   ],
   "source": [
    "def toplama(a,b):\n",
    "    print(a,b)\n",
    "x=toplama(3,4)\n",
    "print(x)"
   ]
  },
  {
   "cell_type": "code",
   "execution_count": 5,
   "id": "cd3ec0f2-f7dc-4aa2-91dc-0647eb557921",
   "metadata": {},
   "outputs": [],
   "source": [
    "#2) Aşağıdaki kodun çıktısı ne olacaktır?"
   ]
  },
  {
   "cell_type": "code",
   "execution_count": 6,
   "id": "54f8c1db-15a1-4df8-8edf-2c5c127a55f9",
   "metadata": {},
   "outputs": [
    {
     "name": "stdout",
     "output_type": "stream",
     "text": [
      "16\n"
     ]
    }
   ],
   "source": [
    "def usselIslem(x=5,y=3):\n",
    "    print(x ** y)\n",
    "usselIslem(2,4)"
   ]
  },
  {
   "cell_type": "code",
   "execution_count": 7,
   "id": "72488fa4-4df8-459d-bf5d-3df882c81a5b",
   "metadata": {},
   "outputs": [
    {
     "name": "stdout",
     "output_type": "stream",
     "text": [
      "125\n"
     ]
    }
   ],
   "source": [
    "#3) Aynı fonksiyonu aşağıdaki gibi çağırırsak çıktı ne olur?\n",
    "usselIslem()"
   ]
  },
  {
   "cell_type": "code",
   "execution_count": 8,
   "id": "6ed718ec-4380-4580-9dcc-346b7ef74c94",
   "metadata": {},
   "outputs": [],
   "source": [
    "#4) Aşağıdaki kodun çıktısı ne olacaktır?"
   ]
  },
  {
   "cell_type": "code",
   "execution_count": 9,
   "id": "f58a37f3-9f1c-40ab-a061-754814e37420",
   "metadata": {},
   "outputs": [
    {
     "name": "stdout",
     "output_type": "stream",
     "text": [
      "1.5\n",
      "1.0\n",
      "0.5\n",
      "2.5\n",
      "2.0\n"
     ]
    }
   ],
   "source": [
    "def myLoop(*args):\n",
    "    for element in args:\n",
    "        print(element / 2)\n",
    "\n",
    "myLoop(3,2,1,5,4)"
   ]
  },
  {
   "cell_type": "code",
   "execution_count": 12,
   "id": "ce1995e4-89b7-4f84-a90e-79033eed96b1",
   "metadata": {},
   "outputs": [],
   "source": [
    "#5) Aşağıdaki dizide belirtilen rakamları, myFunction fonksiyonuna tabi tutup, yeni bir dizi oluşturunuz"
   ]
  },
  {
   "cell_type": "code",
   "execution_count": 13,
   "id": "ed7ef8d9-a5c9-4291-8bab-d76a38726aec",
   "metadata": {},
   "outputs": [],
   "source": [
    "def myFunc(num):\n",
    "    return num ** 3"
   ]
  },
  {
   "cell_type": "code",
   "execution_count": 14,
   "id": "391d19ee-b351-4017-984e-2be5e7aa7a5b",
   "metadata": {},
   "outputs": [],
   "source": [
    "myList = [2,3,4,5,6]"
   ]
  },
  {
   "cell_type": "code",
   "execution_count": 16,
   "id": "104531fb-f9ba-47ef-ae7d-a306cd77cac6",
   "metadata": {},
   "outputs": [],
   "source": [
    "yeni_liste =[]\n",
    "for i in myList:\n",
    "    yeni_liste.append(myFunc(i))\n",
    "    \n",
    "    "
   ]
  },
  {
   "cell_type": "code",
   "execution_count": 19,
   "id": "6633102a-5e13-49c9-a773-ed3c6173bd6f",
   "metadata": {},
   "outputs": [
    {
     "name": "stdout",
     "output_type": "stream",
     "text": [
      "[8, 27, 64, 125, 216]\n"
     ]
    }
   ],
   "source": [
    "print(yeni_liste)"
   ]
  },
  {
   "cell_type": "code",
   "execution_count": 20,
   "id": "cc37bf88-53b7-467b-ad79-f502e2936de3",
   "metadata": {},
   "outputs": [
    {
     "data": {
      "text/plain": [
       "[8, 27, 64, 125, 216]"
      ]
     },
     "execution_count": 20,
     "metadata": {},
     "output_type": "execute_result"
    }
   ],
   "source": [
    "list(map(myFunc,myList))"
   ]
  },
  {
   "cell_type": "code",
   "execution_count": 21,
   "id": "9b471f47-fb29-495d-9eb6-d0aa104e8f24",
   "metadata": {},
   "outputs": [],
   "source": [
    "#6) Aşağıdaki string dizisinde, içinde sadece XYZ geçen barkodları gösterecek yeni bir liste oluşturunuz"
   ]
  },
  {
   "cell_type": "code",
   "execution_count": 22,
   "id": "2a6521fb-06ca-4e12-8ec8-09cbe0f2c5ad",
   "metadata": {},
   "outputs": [],
   "source": [
    "barkodDizisi = [\"ABC231\",\"SA3123XYZ\",\"XYZA123Q\",\"QRE1231KJ\",\"X112QGL\"]"
   ]
  },
  {
   "cell_type": "code",
   "execution_count": 38,
   "id": "ea4777f9-409d-4fbc-82e3-b8aefc1324c0",
   "metadata": {},
   "outputs": [],
   "source": [
    "x = filter(lambda a: a.startswith(\"XYZ\"), barkodDizisi)\n"
   ]
  },
  {
   "cell_type": "code",
   "execution_count": 42,
   "id": "03012246-2aa2-41d7-9624-79128383139b",
   "metadata": {},
   "outputs": [
    {
     "name": "stdout",
     "output_type": "stream",
     "text": [
      "['XYZA123Q']\n"
     ]
    }
   ],
   "source": [
    "print(list(x))"
   ]
  },
  {
   "cell_type": "code",
   "execution_count": 43,
   "id": "bc80c506-4266-4f18-be28-09d9187db5a0",
   "metadata": {},
   "outputs": [],
   "source": [
    "#7) Aşağıdaki kodu okursanız, ornekFonksiyon çalıştırıldığında en altta yazdırılan print size neyi yazdıracaktır?\n"
   ]
  },
  {
   "cell_type": "code",
   "execution_count": 44,
   "id": "5aee4c8a-c546-4628-9c51-abc2772cdf78",
   "metadata": {},
   "outputs": [],
   "source": [
    "myVar = \"Atil Samancioglu\"\n",
    "\n",
    "def ornekFonksiyon():\n",
    "    myVar = \"Atil\"\n",
    "    \n",
    "    def digerFonksiyon():\n",
    "        print(myVar)\n",
    "    \n",
    "    digerFonksiyon()"
   ]
  },
  {
   "cell_type": "code",
   "execution_count": 45,
   "id": "e11d1d39-e591-4afc-9be7-c3cacc1a65e9",
   "metadata": {},
   "outputs": [],
   "source": [
    "#print(myVar) satırı, önce içeri, sonra dışarı bakarak myVar’ı bulur.\n",
    "#Bulduğu değeri yazdırır.\n",
    "# Atil yazdiri\n"
   ]
  },
  {
   "cell_type": "code",
   "execution_count": 48,
   "id": "8ead6c37-a314-472d-91a1-a27af367ad42",
   "metadata": {},
   "outputs": [
    {
     "name": "stdout",
     "output_type": "stream",
     "text": [
      "Atil\n"
     ]
    }
   ],
   "source": [
    "ornekFonksiyon()"
   ]
  },
  {
   "cell_type": "code",
   "execution_count": 50,
   "id": "a9f70e82-e106-4dce-871a-60ff20e5d91f",
   "metadata": {},
   "outputs": [],
   "source": [
    "#8) Aşağıda yazdırılan sınıfı incelediğinizde kedim.yasiCarp() kodunun çıktısı ne olacaktır?"
   ]
  },
  {
   "cell_type": "code",
   "execution_count": 61,
   "id": "f044dd26-82f9-45cf-9f94-97f74d415f09",
   "metadata": {},
   "outputs": [],
   "source": [
    "class Kedi():\n",
    "        \n",
    "    def __init__(self,isim,yas=5):\n",
    "        self.isim = isim\n",
    "        self.yas = yas\n",
    "        \n",
    "    def yasiCarp(self):\n",
    "        return self.yas * 3"
   ]
  },
  {
   "cell_type": "code",
   "execution_count": 62,
   "id": "1fb1a690-8271-449e-a6f0-4f20c27f9a01",
   "metadata": {},
   "outputs": [
    {
     "data": {
      "text/plain": [
       "12"
      ]
     },
     "execution_count": 62,
     "metadata": {},
     "output_type": "execute_result"
    }
   ],
   "source": [
    "kedim=Kedi(\"minnak\",4)\n",
    "kedim.yasiCarp()"
   ]
  },
  {
   "cell_type": "code",
   "execution_count": 63,
   "id": "9af528a3-d426-49de-b287-85b13b421067",
   "metadata": {},
   "outputs": [],
   "source": [
    "#9) Aşağıdaki kodun çıktısı ne olacaktır?"
   ]
  },
  {
   "cell_type": "code",
   "execution_count": 64,
   "id": "f2cf358f-feab-4220-aa7c-661fa0b88792",
   "metadata": {},
   "outputs": [],
   "source": [
    "class Ogrenci():\n",
    "    \n",
    "    def __init__(self,isim,sinavNotu):\n",
    "        self.isim = isim\n",
    "        self.__sinavNotu = sinavNotu\n",
    "    \n",
    "    def notuGoster(self):\n",
    "        print(f\"{self.isim} sınav notu: {self.__sinavNotu}\")"
   ]
  },
  {
   "cell_type": "code",
   "execution_count": 65,
   "id": "e17b07a5-acc2-4315-bc42-e8abdeb7cfe4",
   "metadata": {},
   "outputs": [],
   "source": [
    "ogrenci = Ogrenci(\"Mehmet\",85)\n",
    "ogrenci.__sinavNotu = 75"
   ]
  },
  {
   "cell_type": "code",
   "execution_count": 66,
   "id": "e7d99c3f-eb31-4b5c-bbe7-77f09700da8d",
   "metadata": {},
   "outputs": [
    {
     "name": "stdout",
     "output_type": "stream",
     "text": [
      "Mehmet sınav notu: 85\n"
     ]
    }
   ],
   "source": [
    "ogrenci.notuGoster()"
   ]
  },
  {
   "cell_type": "code",
   "execution_count": 67,
   "id": "1b4089f9-e16f-4931-9603-d7fab36a33eb",
   "metadata": {},
   "outputs": [],
   "source": [
    "#10) Soyut sınıflar ve methodlar oluşturmamıza olanak tanıyan, kodlarımızı daha planlı şekilde yazmamızı mümkün kılan\n",
    "# aynı zamanda büyük projelerde bize yapısal olarak fayda sağlayabilecek OOP prensibinin adı nedir?"
   ]
  },
  {
   "cell_type": "code",
   "execution_count": null,
   "id": "de411def-a850-4e90-9aec-28cb5f601573",
   "metadata": {},
   "outputs": [],
   "source": [
    "#Python’da soyut sınıf ve metot oluşturmak için abc modülü kullanılır.\n",
    "#Bu modül sayesinde:\n",
    "#Soyut sınıflar oluşturulur (class MyClass(ABC):)\n",
    "#Soyut metotlar tanımlanır (@abstractmethod)\n",
    "#Alt sınıflar bu metotları zorunlu olarak override eder."
   ]
  }
 ],
 "metadata": {
  "kernelspec": {
   "display_name": "Python [conda env:base] *",
   "language": "python",
   "name": "conda-base-py"
  },
  "language_info": {
   "codemirror_mode": {
    "name": "ipython",
    "version": 3
   },
   "file_extension": ".py",
   "mimetype": "text/x-python",
   "name": "python",
   "nbconvert_exporter": "python",
   "pygments_lexer": "ipython3",
   "version": "3.11.7"
  }
 },
 "nbformat": 4,
 "nbformat_minor": 5
}
